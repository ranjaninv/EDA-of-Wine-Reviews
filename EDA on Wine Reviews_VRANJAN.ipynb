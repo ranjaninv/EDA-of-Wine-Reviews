{
 "cells": [
  {
   "cell_type": "code",
   "execution_count": 51,
   "metadata": {},
   "outputs": [],
   "source": [
    "# Title     : Final Project - EDA of Wine Reviews\n",
    "# Author    : Vikas Ranjan\n",
    "# Date      : 7/25/2020"
   ]
  },
  {
   "cell_type": "markdown",
   "metadata": {},
   "source": [
    "**Synopsis**\n",
    "\n",
    "- For final project, I've picked up Wine reviews dataset to perform exploratory data analysis. "
   ]
  },
  {
   "cell_type": "code",
   "execution_count": 2,
   "metadata": {},
   "outputs": [],
   "source": [
    "# Import libaries\n",
    "\n",
    "import matplotlib.pyplot as plt        \n",
    "import numpy as np                     \n",
    "import os           \n",
    "import seaborn as sns\n",
    "import pandas as pd                    \n",
    "import thinkstats2\n",
    "import thinkplot\n",
    "import hypothesis\n",
    "import statsmodels.formula.api as smf"
   ]
  },
  {
   "cell_type": "code",
   "execution_count": 3,
   "metadata": {},
   "outputs": [],
   "source": [
    "def LoadWineReviewData():\n",
    "    # Read csv file and load into a datafrane\n",
    "    rawDF = pd.read_csv('C:/Users/F6PDP2A/Desktop/Sem4 - Final Project/winemag-data-130k-v2.csv')\n",
    "    nRow, nCol = rawDF.shape\n",
    "    print(f'There are {nRow} rows and {nCol} columns, in Wine review Dataset!')\n",
    "\n",
    "    return rawDF"
   ]
  },
  {
   "cell_type": "code",
   "execution_count": 4,
   "metadata": {},
   "outputs": [],
   "source": [
    "def missing_values_table(rawDF):\n",
    "        zero_val = (rawDF == 0.00).astype(int).sum(axis=0)\n",
    "        mis_val = rawDF.isnull().sum()\n",
    "        mis_val_percent = 100 * rawDF.isnull().sum() / len(rawDF)\n",
    "        misval_table = pd.concat([zero_val, mis_val, mis_val_percent], axis=1)\n",
    "        misval_table = misval_table.rename(\n",
    "        columns = {0 : 'Zero Values', 1 : 'Missing Values', 2 : '% of Total Values'})\n",
    "        misval_table['Total Zero Missing Values'] = misval_table['Zero Values'] + misval_table['Missing Values']\n",
    "        misval_table['% Total Zero Missing Values'] = 100 * misval_table['Total Zero Missing Values'] / len(rawDF)\n",
    "        misval_table['% Total Missing Values'] = 100 * misval_table['Missing Values'] / len(rawDF)\n",
    "        misval_table['Data Type'] = rawDF.dtypes\n",
    "        misval_table = misval_table[\n",
    "            misval_table.iloc[:,1] != 0].sort_values(\n",
    "        '% of Total Values', ascending=False).round(1)\n",
    "        print (\"Your selected dataframe has \" + str(rawDF.shape[1]) + \" columns and \" + str(rawDF.shape[0]) + \" Rows.\\n\"      \n",
    "            \"There are \" + str(misval_table.shape[0]) +\n",
    "              \" columns that have missing values.\")\n",
    "        print (\"There are \", sum(misval_table['% Total Missing Values'] > 50), \"columns having greater than 50% missing value.\")\n",
    "        print (\"There are \", sum(misval_table['% Total Missing Values'] > 40), \"columns having greater than 40% missing value.\")\n",
    "        print (\"There are \", sum(misval_table['% Total Missing Values'] > 30), \"columns having greater than 30% missing value.\")\n",
    "        print (\"There are \", sum(misval_table['% Total Missing Values'] > 20), \"columns having greater than 20% missing value.\")\n",
    "        print (\"There are \", sum(misval_table['% Total Missing Values'] > 10), \"columns having greater than 10% missing value.\")\n",
    "\n",
    "        return misval_table"
   ]
  },
  {
   "cell_type": "code",
   "execution_count": 5,
   "metadata": {},
   "outputs": [],
   "source": [
    "def cleanData(rawDF):\n",
    "    # Remove duplicates from the raw dataset\n",
    "    rawDF = rawDF.drop_duplicates('description')\n",
    "    rawDF = rawDF[pd.notnull(rawDF.price)]\n",
    "    # Drop unnecessary rows from the raw dataset\n",
    "    rawDF = rawDF.drop([\"Unnamed: 0\", \"region_2\", \"description\"], axis=1)\n",
    "    \n",
    "    return rawDF"
   ]
  },
  {
   "cell_type": "code",
   "execution_count": 6,
   "metadata": {},
   "outputs": [],
   "source": [
    "def RemoveNull(rawDF):\n",
    "    rawDF_non_null = rawDF.dropna()\n",
    "    nRow, nCol = rawDF_non_null.shape\n",
    "    print(f'There are {nRow} rows and {nCol} columns, after removing all rows with null values')\n",
    "    \n",
    "    return rawDF_non_null"
   ]
  },
  {
   "cell_type": "code",
   "execution_count": 7,
   "metadata": {},
   "outputs": [],
   "source": [
    "def plot_hist(var):\n",
    "    hist = thinkstats2.Hist(var)\n",
    "    thinkplot.Hist(hist,align='left')\n",
    "    \n",
    "    return hist"
   ]
  },
  {
   "cell_type": "code",
   "execution_count": 8,
   "metadata": {},
   "outputs": [],
   "source": [
    "def plot_compare_hist(var_l, var_p, width=0.45):\n",
    "    USWines_hist = thinkstats2.Hist(var_l, label='US Wines')\n",
    "    FrenchWines_hist = thinkstats2.Hist(var_p, label='French Wines')\n",
    "\n",
    "    thinkplot.PrePlot(2)\n",
    "    thinkplot.Hist(USWines_hist, align='right', width=width)\n",
    "    thinkplot.Hist(FrenchWines_hist, align='left', width=width)\n",
    "\n",
    "    return USWines_hist, FrenchWines_hist"
   ]
  },
  {
   "cell_type": "code",
   "execution_count": 9,
   "metadata": {},
   "outputs": [
    {
     "name": "stdout",
     "output_type": "stream",
     "text": [
      "There are 129971 rows and 14 columns, in Wine review Dataset!\n"
     ]
    }
   ],
   "source": [
    "# Main Routine\n",
    "rawDF = LoadWineReviewData()"
   ]
  },
  {
   "cell_type": "code",
   "execution_count": 10,
   "metadata": {
    "scrolled": true
   },
   "outputs": [
    {
     "name": "stdout",
     "output_type": "stream",
     "text": [
      "Below are the datatypes of the columns in the dataset:\n"
     ]
    },
    {
     "data": {
      "text/plain": [
       "Unnamed: 0                 int64\n",
       "country                   object\n",
       "description               object\n",
       "designation               object\n",
       "points                     int64\n",
       "price                    float64\n",
       "province                  object\n",
       "region_1                  object\n",
       "region_2                  object\n",
       "taster_name               object\n",
       "taster_twitter_handle     object\n",
       "title                     object\n",
       "variety                   object\n",
       "winery                    object\n",
       "dtype: object"
      ]
     },
     "execution_count": 10,
     "metadata": {},
     "output_type": "execute_result"
    }
   ],
   "source": [
    "# Identify data types\n",
    "print(\"Below are the datatypes of the columns in the dataset:\")\n",
    "rawDF.dtypes"
   ]
  },
  {
   "cell_type": "code",
   "execution_count": 11,
   "metadata": {},
   "outputs": [
    {
     "data": {
      "text/html": [
       "<div>\n",
       "<style scoped>\n",
       "    .dataframe tbody tr th:only-of-type {\n",
       "        vertical-align: middle;\n",
       "    }\n",
       "\n",
       "    .dataframe tbody tr th {\n",
       "        vertical-align: top;\n",
       "    }\n",
       "\n",
       "    .dataframe thead th {\n",
       "        text-align: right;\n",
       "    }\n",
       "</style>\n",
       "<table border=\"1\" class=\"dataframe\">\n",
       "  <thead>\n",
       "    <tr style=\"text-align: right;\">\n",
       "      <th></th>\n",
       "      <th>count</th>\n",
       "      <th>unique</th>\n",
       "      <th>top</th>\n",
       "      <th>freq</th>\n",
       "      <th>mean</th>\n",
       "      <th>std</th>\n",
       "      <th>min</th>\n",
       "      <th>25%</th>\n",
       "      <th>50%</th>\n",
       "      <th>75%</th>\n",
       "      <th>max</th>\n",
       "    </tr>\n",
       "  </thead>\n",
       "  <tbody>\n",
       "    <tr>\n",
       "      <th>Unnamed: 0</th>\n",
       "      <td>129971</td>\n",
       "      <td>NaN</td>\n",
       "      <td>NaN</td>\n",
       "      <td>NaN</td>\n",
       "      <td>64985</td>\n",
       "      <td>37519.5</td>\n",
       "      <td>0</td>\n",
       "      <td>32492.5</td>\n",
       "      <td>64985</td>\n",
       "      <td>97477.5</td>\n",
       "      <td>129970</td>\n",
       "    </tr>\n",
       "    <tr>\n",
       "      <th>country</th>\n",
       "      <td>129908</td>\n",
       "      <td>43</td>\n",
       "      <td>US</td>\n",
       "      <td>54504</td>\n",
       "      <td>NaN</td>\n",
       "      <td>NaN</td>\n",
       "      <td>NaN</td>\n",
       "      <td>NaN</td>\n",
       "      <td>NaN</td>\n",
       "      <td>NaN</td>\n",
       "      <td>NaN</td>\n",
       "    </tr>\n",
       "    <tr>\n",
       "      <th>description</th>\n",
       "      <td>129971</td>\n",
       "      <td>119955</td>\n",
       "      <td>This zesty red has pretty aromas that suggest ...</td>\n",
       "      <td>3</td>\n",
       "      <td>NaN</td>\n",
       "      <td>NaN</td>\n",
       "      <td>NaN</td>\n",
       "      <td>NaN</td>\n",
       "      <td>NaN</td>\n",
       "      <td>NaN</td>\n",
       "      <td>NaN</td>\n",
       "    </tr>\n",
       "    <tr>\n",
       "      <th>designation</th>\n",
       "      <td>92506</td>\n",
       "      <td>37976</td>\n",
       "      <td>Reserve</td>\n",
       "      <td>2009</td>\n",
       "      <td>NaN</td>\n",
       "      <td>NaN</td>\n",
       "      <td>NaN</td>\n",
       "      <td>NaN</td>\n",
       "      <td>NaN</td>\n",
       "      <td>NaN</td>\n",
       "      <td>NaN</td>\n",
       "    </tr>\n",
       "    <tr>\n",
       "      <th>points</th>\n",
       "      <td>129971</td>\n",
       "      <td>NaN</td>\n",
       "      <td>NaN</td>\n",
       "      <td>NaN</td>\n",
       "      <td>88.4471</td>\n",
       "      <td>3.03973</td>\n",
       "      <td>80</td>\n",
       "      <td>86</td>\n",
       "      <td>88</td>\n",
       "      <td>91</td>\n",
       "      <td>100</td>\n",
       "    </tr>\n",
       "    <tr>\n",
       "      <th>price</th>\n",
       "      <td>120975</td>\n",
       "      <td>NaN</td>\n",
       "      <td>NaN</td>\n",
       "      <td>NaN</td>\n",
       "      <td>35.3634</td>\n",
       "      <td>41.0222</td>\n",
       "      <td>4</td>\n",
       "      <td>17</td>\n",
       "      <td>25</td>\n",
       "      <td>42</td>\n",
       "      <td>3300</td>\n",
       "    </tr>\n",
       "    <tr>\n",
       "      <th>province</th>\n",
       "      <td>129908</td>\n",
       "      <td>425</td>\n",
       "      <td>California</td>\n",
       "      <td>36247</td>\n",
       "      <td>NaN</td>\n",
       "      <td>NaN</td>\n",
       "      <td>NaN</td>\n",
       "      <td>NaN</td>\n",
       "      <td>NaN</td>\n",
       "      <td>NaN</td>\n",
       "      <td>NaN</td>\n",
       "    </tr>\n",
       "    <tr>\n",
       "      <th>region_1</th>\n",
       "      <td>108724</td>\n",
       "      <td>1229</td>\n",
       "      <td>Napa Valley</td>\n",
       "      <td>4480</td>\n",
       "      <td>NaN</td>\n",
       "      <td>NaN</td>\n",
       "      <td>NaN</td>\n",
       "      <td>NaN</td>\n",
       "      <td>NaN</td>\n",
       "      <td>NaN</td>\n",
       "      <td>NaN</td>\n",
       "    </tr>\n",
       "    <tr>\n",
       "      <th>region_2</th>\n",
       "      <td>50511</td>\n",
       "      <td>17</td>\n",
       "      <td>Central Coast</td>\n",
       "      <td>11065</td>\n",
       "      <td>NaN</td>\n",
       "      <td>NaN</td>\n",
       "      <td>NaN</td>\n",
       "      <td>NaN</td>\n",
       "      <td>NaN</td>\n",
       "      <td>NaN</td>\n",
       "      <td>NaN</td>\n",
       "    </tr>\n",
       "    <tr>\n",
       "      <th>taster_name</th>\n",
       "      <td>103727</td>\n",
       "      <td>19</td>\n",
       "      <td>Roger Voss</td>\n",
       "      <td>25514</td>\n",
       "      <td>NaN</td>\n",
       "      <td>NaN</td>\n",
       "      <td>NaN</td>\n",
       "      <td>NaN</td>\n",
       "      <td>NaN</td>\n",
       "      <td>NaN</td>\n",
       "      <td>NaN</td>\n",
       "    </tr>\n",
       "    <tr>\n",
       "      <th>taster_twitter_handle</th>\n",
       "      <td>98758</td>\n",
       "      <td>15</td>\n",
       "      <td>@vossroger</td>\n",
       "      <td>25514</td>\n",
       "      <td>NaN</td>\n",
       "      <td>NaN</td>\n",
       "      <td>NaN</td>\n",
       "      <td>NaN</td>\n",
       "      <td>NaN</td>\n",
       "      <td>NaN</td>\n",
       "      <td>NaN</td>\n",
       "    </tr>\n",
       "    <tr>\n",
       "      <th>title</th>\n",
       "      <td>129971</td>\n",
       "      <td>118840</td>\n",
       "      <td>Gloria Ferrer NV Sonoma Brut Sparkling (Sonoma...</td>\n",
       "      <td>11</td>\n",
       "      <td>NaN</td>\n",
       "      <td>NaN</td>\n",
       "      <td>NaN</td>\n",
       "      <td>NaN</td>\n",
       "      <td>NaN</td>\n",
       "      <td>NaN</td>\n",
       "      <td>NaN</td>\n",
       "    </tr>\n",
       "    <tr>\n",
       "      <th>variety</th>\n",
       "      <td>129970</td>\n",
       "      <td>707</td>\n",
       "      <td>Pinot Noir</td>\n",
       "      <td>13272</td>\n",
       "      <td>NaN</td>\n",
       "      <td>NaN</td>\n",
       "      <td>NaN</td>\n",
       "      <td>NaN</td>\n",
       "      <td>NaN</td>\n",
       "      <td>NaN</td>\n",
       "      <td>NaN</td>\n",
       "    </tr>\n",
       "    <tr>\n",
       "      <th>winery</th>\n",
       "      <td>129971</td>\n",
       "      <td>16757</td>\n",
       "      <td>Wines &amp; Winemakers</td>\n",
       "      <td>222</td>\n",
       "      <td>NaN</td>\n",
       "      <td>NaN</td>\n",
       "      <td>NaN</td>\n",
       "      <td>NaN</td>\n",
       "      <td>NaN</td>\n",
       "      <td>NaN</td>\n",
       "      <td>NaN</td>\n",
       "    </tr>\n",
       "  </tbody>\n",
       "</table>\n",
       "</div>"
      ],
      "text/plain": [
       "                        count  unique  \\\n",
       "Unnamed: 0             129971     NaN   \n",
       "country                129908      43   \n",
       "description            129971  119955   \n",
       "designation             92506   37976   \n",
       "points                 129971     NaN   \n",
       "price                  120975     NaN   \n",
       "province               129908     425   \n",
       "region_1               108724    1229   \n",
       "region_2                50511      17   \n",
       "taster_name            103727      19   \n",
       "taster_twitter_handle   98758      15   \n",
       "title                  129971  118840   \n",
       "variety                129970     707   \n",
       "winery                 129971   16757   \n",
       "\n",
       "                                                                     top  \\\n",
       "Unnamed: 0                                                           NaN   \n",
       "country                                                               US   \n",
       "description            This zesty red has pretty aromas that suggest ...   \n",
       "designation                                                      Reserve   \n",
       "points                                                               NaN   \n",
       "price                                                                NaN   \n",
       "province                                                      California   \n",
       "region_1                                                     Napa Valley   \n",
       "region_2                                                   Central Coast   \n",
       "taster_name                                                   Roger Voss   \n",
       "taster_twitter_handle                                         @vossroger   \n",
       "title                  Gloria Ferrer NV Sonoma Brut Sparkling (Sonoma...   \n",
       "variety                                                       Pinot Noir   \n",
       "winery                                                Wines & Winemakers   \n",
       "\n",
       "                        freq     mean      std  min      25%    50%      75%  \\\n",
       "Unnamed: 0               NaN    64985  37519.5    0  32492.5  64985  97477.5   \n",
       "country                54504      NaN      NaN  NaN      NaN    NaN      NaN   \n",
       "description                3      NaN      NaN  NaN      NaN    NaN      NaN   \n",
       "designation             2009      NaN      NaN  NaN      NaN    NaN      NaN   \n",
       "points                   NaN  88.4471  3.03973   80       86     88       91   \n",
       "price                    NaN  35.3634  41.0222    4       17     25       42   \n",
       "province               36247      NaN      NaN  NaN      NaN    NaN      NaN   \n",
       "region_1                4480      NaN      NaN  NaN      NaN    NaN      NaN   \n",
       "region_2               11065      NaN      NaN  NaN      NaN    NaN      NaN   \n",
       "taster_name            25514      NaN      NaN  NaN      NaN    NaN      NaN   \n",
       "taster_twitter_handle  25514      NaN      NaN  NaN      NaN    NaN      NaN   \n",
       "title                     11      NaN      NaN  NaN      NaN    NaN      NaN   \n",
       "variety                13272      NaN      NaN  NaN      NaN    NaN      NaN   \n",
       "winery                   222      NaN      NaN  NaN      NaN    NaN      NaN   \n",
       "\n",
       "                          max  \n",
       "Unnamed: 0             129970  \n",
       "country                   NaN  \n",
       "description               NaN  \n",
       "designation               NaN  \n",
       "points                    100  \n",
       "price                    3300  \n",
       "province                  NaN  \n",
       "region_1                  NaN  \n",
       "region_2                  NaN  \n",
       "taster_name               NaN  \n",
       "taster_twitter_handle     NaN  \n",
       "title                     NaN  \n",
       "variety                   NaN  \n",
       "winery                    NaN  "
      ]
     },
     "execution_count": 11,
     "metadata": {},
     "output_type": "execute_result"
    }
   ],
   "source": [
    "rawDF.describe(include='all',).T"
   ]
  },
  {
   "cell_type": "code",
   "execution_count": 12,
   "metadata": {
    "scrolled": true
   },
   "outputs": [
    {
     "name": "stdout",
     "output_type": "stream",
     "text": [
      "Your selected dataframe has 14 columns and 129971 Rows.\n",
      "There are 9 columns that have missing values.\n",
      "There are  1 columns having greater than 50% missing value.\n",
      "There are  1 columns having greater than 40% missing value.\n",
      "There are  1 columns having greater than 30% missing value.\n",
      "There are  4 columns having greater than 20% missing value.\n",
      "There are  5 columns having greater than 10% missing value.\n"
     ]
    },
    {
     "data": {
      "text/html": [
       "<div>\n",
       "<style scoped>\n",
       "    .dataframe tbody tr th:only-of-type {\n",
       "        vertical-align: middle;\n",
       "    }\n",
       "\n",
       "    .dataframe tbody tr th {\n",
       "        vertical-align: top;\n",
       "    }\n",
       "\n",
       "    .dataframe thead th {\n",
       "        text-align: right;\n",
       "    }\n",
       "</style>\n",
       "<table border=\"1\" class=\"dataframe\">\n",
       "  <thead>\n",
       "    <tr style=\"text-align: right;\">\n",
       "      <th></th>\n",
       "      <th>Zero Values</th>\n",
       "      <th>Missing Values</th>\n",
       "      <th>% of Total Values</th>\n",
       "      <th>Total Zero Missing Values</th>\n",
       "      <th>% Total Zero Missing Values</th>\n",
       "      <th>% Total Missing Values</th>\n",
       "      <th>Data Type</th>\n",
       "    </tr>\n",
       "  </thead>\n",
       "  <tbody>\n",
       "    <tr>\n",
       "      <th>region_2</th>\n",
       "      <td>0</td>\n",
       "      <td>79460</td>\n",
       "      <td>61.1</td>\n",
       "      <td>79460</td>\n",
       "      <td>61.1</td>\n",
       "      <td>61.1</td>\n",
       "      <td>object</td>\n",
       "    </tr>\n",
       "    <tr>\n",
       "      <th>designation</th>\n",
       "      <td>0</td>\n",
       "      <td>37465</td>\n",
       "      <td>28.8</td>\n",
       "      <td>37465</td>\n",
       "      <td>28.8</td>\n",
       "      <td>28.8</td>\n",
       "      <td>object</td>\n",
       "    </tr>\n",
       "    <tr>\n",
       "      <th>taster_twitter_handle</th>\n",
       "      <td>0</td>\n",
       "      <td>31213</td>\n",
       "      <td>24.0</td>\n",
       "      <td>31213</td>\n",
       "      <td>24.0</td>\n",
       "      <td>24.0</td>\n",
       "      <td>object</td>\n",
       "    </tr>\n",
       "    <tr>\n",
       "      <th>taster_name</th>\n",
       "      <td>0</td>\n",
       "      <td>26244</td>\n",
       "      <td>20.2</td>\n",
       "      <td>26244</td>\n",
       "      <td>20.2</td>\n",
       "      <td>20.2</td>\n",
       "      <td>object</td>\n",
       "    </tr>\n",
       "    <tr>\n",
       "      <th>region_1</th>\n",
       "      <td>0</td>\n",
       "      <td>21247</td>\n",
       "      <td>16.3</td>\n",
       "      <td>21247</td>\n",
       "      <td>16.3</td>\n",
       "      <td>16.3</td>\n",
       "      <td>object</td>\n",
       "    </tr>\n",
       "    <tr>\n",
       "      <th>price</th>\n",
       "      <td>0</td>\n",
       "      <td>8996</td>\n",
       "      <td>6.9</td>\n",
       "      <td>8996</td>\n",
       "      <td>6.9</td>\n",
       "      <td>6.9</td>\n",
       "      <td>float64</td>\n",
       "    </tr>\n",
       "    <tr>\n",
       "      <th>country</th>\n",
       "      <td>0</td>\n",
       "      <td>63</td>\n",
       "      <td>0.0</td>\n",
       "      <td>63</td>\n",
       "      <td>0.0</td>\n",
       "      <td>0.0</td>\n",
       "      <td>object</td>\n",
       "    </tr>\n",
       "    <tr>\n",
       "      <th>province</th>\n",
       "      <td>0</td>\n",
       "      <td>63</td>\n",
       "      <td>0.0</td>\n",
       "      <td>63</td>\n",
       "      <td>0.0</td>\n",
       "      <td>0.0</td>\n",
       "      <td>object</td>\n",
       "    </tr>\n",
       "    <tr>\n",
       "      <th>variety</th>\n",
       "      <td>0</td>\n",
       "      <td>1</td>\n",
       "      <td>0.0</td>\n",
       "      <td>1</td>\n",
       "      <td>0.0</td>\n",
       "      <td>0.0</td>\n",
       "      <td>object</td>\n",
       "    </tr>\n",
       "  </tbody>\n",
       "</table>\n",
       "</div>"
      ],
      "text/plain": [
       "                       Zero Values  Missing Values  % of Total Values  \\\n",
       "region_2                         0           79460               61.1   \n",
       "designation                      0           37465               28.8   \n",
       "taster_twitter_handle            0           31213               24.0   \n",
       "taster_name                      0           26244               20.2   \n",
       "region_1                         0           21247               16.3   \n",
       "price                            0            8996                6.9   \n",
       "country                          0              63                0.0   \n",
       "province                         0              63                0.0   \n",
       "variety                          0               1                0.0   \n",
       "\n",
       "                       Total Zero Missing Values  % Total Zero Missing Values  \\\n",
       "region_2                                   79460                         61.1   \n",
       "designation                                37465                         28.8   \n",
       "taster_twitter_handle                      31213                         24.0   \n",
       "taster_name                                26244                         20.2   \n",
       "region_1                                   21247                         16.3   \n",
       "price                                       8996                          6.9   \n",
       "country                                       63                          0.0   \n",
       "province                                      63                          0.0   \n",
       "variety                                        1                          0.0   \n",
       "\n",
       "                       % Total Missing Values Data Type  \n",
       "region_2                                 61.1    object  \n",
       "designation                              28.8    object  \n",
       "taster_twitter_handle                    24.0    object  \n",
       "taster_name                              20.2    object  \n",
       "region_1                                 16.3    object  \n",
       "price                                     6.9   float64  \n",
       "country                                   0.0    object  \n",
       "province                                  0.0    object  \n",
       "variety                                   0.0    object  "
      ]
     },
     "execution_count": 12,
     "metadata": {},
     "output_type": "execute_result"
    }
   ],
   "source": [
    "# Check for missing values in the raw dataset\n",
    "missing_values_table(rawDF)"
   ]
  },
  {
   "cell_type": "code",
   "execution_count": 13,
   "metadata": {},
   "outputs": [],
   "source": [
    "cleanDF = cleanData(rawDF)"
   ]
  },
  {
   "cell_type": "code",
   "execution_count": 14,
   "metadata": {},
   "outputs": [
    {
     "name": "stdout",
     "output_type": "stream",
     "text": [
      "There are 47660 rows and 11 columns, after removing all rows with null values\n"
     ]
    }
   ],
   "source": [
    "#Remove all rows with NaN (Null Values)\n",
    "cleanDF = RemoveNull(cleanDF)"
   ]
  },
  {
   "cell_type": "code",
   "execution_count": 15,
   "metadata": {
    "scrolled": true
   },
   "outputs": [
    {
     "data": {
      "text/html": [
       "<div>\n",
       "<style scoped>\n",
       "    .dataframe tbody tr th:only-of-type {\n",
       "        vertical-align: middle;\n",
       "    }\n",
       "\n",
       "    .dataframe tbody tr th {\n",
       "        vertical-align: top;\n",
       "    }\n",
       "\n",
       "    .dataframe thead th {\n",
       "        text-align: right;\n",
       "    }\n",
       "</style>\n",
       "<table border=\"1\" class=\"dataframe\">\n",
       "  <thead>\n",
       "    <tr style=\"text-align: right;\">\n",
       "      <th></th>\n",
       "      <th>country</th>\n",
       "      <th>designation</th>\n",
       "      <th>points</th>\n",
       "      <th>price</th>\n",
       "      <th>province</th>\n",
       "      <th>region_1</th>\n",
       "      <th>taster_name</th>\n",
       "      <th>taster_twitter_handle</th>\n",
       "      <th>title</th>\n",
       "      <th>variety</th>\n",
       "      <th>winery</th>\n",
       "    </tr>\n",
       "  </thead>\n",
       "  <tbody>\n",
       "    <tr>\n",
       "      <th>4</th>\n",
       "      <td>US</td>\n",
       "      <td>Vintner's Reserve Wild Child Block</td>\n",
       "      <td>87</td>\n",
       "      <td>65.0</td>\n",
       "      <td>Oregon</td>\n",
       "      <td>Willamette Valley</td>\n",
       "      <td>Paul Gregutt</td>\n",
       "      <td>@paulgwine</td>\n",
       "      <td>Sweet Cheeks 2012 Vintner's Reserve Wild Child...</td>\n",
       "      <td>Pinot Noir</td>\n",
       "      <td>Sweet Cheeks</td>\n",
       "    </tr>\n",
       "    <tr>\n",
       "      <th>5</th>\n",
       "      <td>Spain</td>\n",
       "      <td>Ars In Vitro</td>\n",
       "      <td>87</td>\n",
       "      <td>15.0</td>\n",
       "      <td>Northern Spain</td>\n",
       "      <td>Navarra</td>\n",
       "      <td>Michael Schachner</td>\n",
       "      <td>@wineschach</td>\n",
       "      <td>Tandem 2011 Ars In Vitro Tempranillo-Merlot (N...</td>\n",
       "      <td>Tempranillo-Merlot</td>\n",
       "      <td>Tandem</td>\n",
       "    </tr>\n",
       "    <tr>\n",
       "      <th>6</th>\n",
       "      <td>Italy</td>\n",
       "      <td>Belsito</td>\n",
       "      <td>87</td>\n",
       "      <td>16.0</td>\n",
       "      <td>Sicily &amp; Sardinia</td>\n",
       "      <td>Vittoria</td>\n",
       "      <td>Kerin O’Keefe</td>\n",
       "      <td>@kerinokeefe</td>\n",
       "      <td>Terre di Giurfo 2013 Belsito Frappato (Vittoria)</td>\n",
       "      <td>Frappato</td>\n",
       "      <td>Terre di Giurfo</td>\n",
       "    </tr>\n",
       "    <tr>\n",
       "      <th>9</th>\n",
       "      <td>France</td>\n",
       "      <td>Les Natures</td>\n",
       "      <td>87</td>\n",
       "      <td>27.0</td>\n",
       "      <td>Alsace</td>\n",
       "      <td>Alsace</td>\n",
       "      <td>Roger Voss</td>\n",
       "      <td>@vossroger</td>\n",
       "      <td>Jean-Baptiste Adam 2012 Les Natures Pinot Gris...</td>\n",
       "      <td>Pinot Gris</td>\n",
       "      <td>Jean-Baptiste Adam</td>\n",
       "    </tr>\n",
       "    <tr>\n",
       "      <th>10</th>\n",
       "      <td>US</td>\n",
       "      <td>Mountain Cuvée</td>\n",
       "      <td>87</td>\n",
       "      <td>19.0</td>\n",
       "      <td>California</td>\n",
       "      <td>Napa Valley</td>\n",
       "      <td>Virginie Boone</td>\n",
       "      <td>@vboone</td>\n",
       "      <td>Kirkland Signature 2011 Mountain Cuvée Caberne...</td>\n",
       "      <td>Cabernet Sauvignon</td>\n",
       "      <td>Kirkland Signature</td>\n",
       "    </tr>\n",
       "  </tbody>\n",
       "</table>\n",
       "</div>"
      ],
      "text/plain": [
       "   country                         designation  points  price  \\\n",
       "4       US  Vintner's Reserve Wild Child Block      87   65.0   \n",
       "5    Spain                        Ars In Vitro      87   15.0   \n",
       "6    Italy                             Belsito      87   16.0   \n",
       "9   France                         Les Natures      87   27.0   \n",
       "10      US                      Mountain Cuvée      87   19.0   \n",
       "\n",
       "             province           region_1        taster_name  \\\n",
       "4              Oregon  Willamette Valley       Paul Gregutt   \n",
       "5      Northern Spain            Navarra  Michael Schachner   \n",
       "6   Sicily & Sardinia           Vittoria      Kerin O’Keefe   \n",
       "9              Alsace             Alsace         Roger Voss   \n",
       "10         California        Napa Valley     Virginie Boone   \n",
       "\n",
       "   taster_twitter_handle                                              title  \\\n",
       "4            @paulgwine   Sweet Cheeks 2012 Vintner's Reserve Wild Child...   \n",
       "5            @wineschach  Tandem 2011 Ars In Vitro Tempranillo-Merlot (N...   \n",
       "6           @kerinokeefe   Terre di Giurfo 2013 Belsito Frappato (Vittoria)   \n",
       "9             @vossroger  Jean-Baptiste Adam 2012 Les Natures Pinot Gris...   \n",
       "10               @vboone  Kirkland Signature 2011 Mountain Cuvée Caberne...   \n",
       "\n",
       "               variety              winery  \n",
       "4           Pinot Noir        Sweet Cheeks  \n",
       "5   Tempranillo-Merlot              Tandem  \n",
       "6             Frappato     Terre di Giurfo  \n",
       "9           Pinot Gris  Jean-Baptiste Adam  \n",
       "10  Cabernet Sauvignon  Kirkland Signature  "
      ]
     },
     "execution_count": 15,
     "metadata": {},
     "output_type": "execute_result"
    }
   ],
   "source": [
    "# Display head of dataframe\n",
    "cleanDF.head()"
   ]
  },
  {
   "cell_type": "code",
   "execution_count": 16,
   "metadata": {},
   "outputs": [
    {
     "data": {
      "text/plain": [
       "country                   object\n",
       "designation               object\n",
       "points                     int64\n",
       "price                    float64\n",
       "province                  object\n",
       "region_1                  object\n",
       "taster_name               object\n",
       "taster_twitter_handle     object\n",
       "title                     object\n",
       "variety                   object\n",
       "winery                    object\n",
       "dtype: object"
      ]
     },
     "execution_count": 16,
     "metadata": {},
     "output_type": "execute_result"
    }
   ],
   "source": [
    "cleanDF.dtypes"
   ]
  },
  {
   "cell_type": "markdown",
   "metadata": {},
   "source": [
    "**- Describe what the variables mean in the dataset (Chapter 1).**\n",
    "\n",
    "We will focus on the following variables:\n",
    "    - variety\t\n",
    "    - winery\n",
    "    - points\t\n",
    "    - price\t\n",
    "    - province\n",
    "    - country"
   ]
  },
  {
   "cell_type": "code",
   "execution_count": 17,
   "metadata": {},
   "outputs": [],
   "source": [
    "# Calculate mean of all the variables in the dataframe.\n",
    "# Commenting below code since it takes really long to execute\n",
    "#cleanDF.mean()"
   ]
  },
  {
   "cell_type": "markdown",
   "metadata": {},
   "source": [
    "**- Include a histogram of each of the variables – in your summary and analysis, identify any outliers and explain the reasoning for them being outliers and how you believe they should be handled (Chapter 2).**"
   ]
  },
  {
   "cell_type": "code",
   "execution_count": 18,
   "metadata": {},
   "outputs": [
    {
     "data": {
      "image/png": "[encoded data removed]",
      "text/plain": [
       "<Figure size 432x288 with 1 Axes>"
      ]
     },
     "metadata": {
      "needs_background": "light"
     },
     "output_type": "display_data"
    },
    {
     "data": {
      "text/plain": [
       "<Figure size 576x432 with 0 Axes>"
      ]
     },
     "metadata": {},
     "output_type": "display_data"
    }
   ],
   "source": [
    "# Plot histogram of variety\n",
    "plot_hist(cleanDF.taster_name)\n",
    "thinkplot.Show(xlabel='taster_name', ylabel='frequency')"
   ]
  },
  {
   "cell_type": "code",
   "execution_count": 19,
   "metadata": {},
   "outputs": [
    {
     "data": {
      "image/png": "[encoded data removed]",
      "text/plain": [
       "<Figure size 432x288 with 1 Axes>"
      ]
     },
     "metadata": {
      "needs_background": "light"
     },
     "output_type": "display_data"
    },
    {
     "data": {
      "text/plain": [
       "<Figure size 576x432 with 0 Axes>"
      ]
     },
     "metadata": {},
     "output_type": "display_data"
    }
   ],
   "source": [
    "# Plot histogram of winery\n",
    "plot_hist(cleanDF.winery)\n",
    "thinkplot.Show(xlabel='winery', ylabel='frequency')"
   ]
  },
  {
   "cell_type": "code",
   "execution_count": 20,
   "metadata": {},
   "outputs": [
    {
     "data": {
      "image/png": "[encoded data removed]",
      "text/plain": [
       "<Figure size 432x288 with 1 Axes>"
      ]
     },
     "metadata": {
      "needs_background": "light"
     },
     "output_type": "display_data"
    },
    {
     "data": {
      "text/plain": [
       "<Figure size 576x432 with 0 Axes>"
      ]
     },
     "metadata": {},
     "output_type": "display_data"
    }
   ],
   "source": [
    "# Plot histogram of points\n",
    "plot_hist(cleanDF.points)\n",
    "thinkplot.Show(xlabel='points', ylabel='frequency')"
   ]
  },
  {
   "cell_type": "code",
   "execution_count": 21,
   "metadata": {},
   "outputs": [
    {
     "data": {
      "image/png": "[encoded data removed]",
      "text/plain": [
       "<Figure size 432x288 with 1 Axes>"
      ]
     },
     "metadata": {
      "needs_background": "light"
     },
     "output_type": "display_data"
    },
    {
     "data": {
      "text/plain": [
       "<Figure size 576x432 with 0 Axes>"
      ]
     },
     "metadata": {},
     "output_type": "display_data"
    }
   ],
   "source": [
    "# Plot histogram of price\n",
    "plot_hist(cleanDF.price)\n",
    "thinkplot.Show(xlabel='price', ylabel='frequency')"
   ]
  },
  {
   "cell_type": "code",
   "execution_count": 22,
   "metadata": {
    "scrolled": true
   },
   "outputs": [
    {
     "data": {
      "image/png": "[encoded data removed]",
      "text/plain": [
       "<Figure size 432x288 with 1 Axes>"
      ]
     },
     "metadata": {
      "needs_background": "light"
     },
     "output_type": "display_data"
    },
    {
     "data": {
      "text/plain": [
       "<Figure size 576x432 with 0 Axes>"
      ]
     },
     "metadata": {},
     "output_type": "display_data"
    }
   ],
   "source": [
    "# Plot histogram of province\n",
    "plot_hist(cleanDF.province)\n",
    "thinkplot.Show(xlabel='province', ylabel='frequency')"
   ]
  },
  {
   "cell_type": "markdown",
   "metadata": {},
   "source": [
    "**- Include the other descriptive characteristics about the variables: Mean, Mode, Spread, and Tails (Chapter 2).**"
   ]
  },
  {
   "cell_type": "code",
   "execution_count": 23,
   "metadata": {},
   "outputs": [
    {
     "data": {
      "text/html": [
       "<div>\n",
       "<style scoped>\n",
       "    .dataframe tbody tr th:only-of-type {\n",
       "        vertical-align: middle;\n",
       "    }\n",
       "\n",
       "    .dataframe tbody tr th {\n",
       "        vertical-align: top;\n",
       "    }\n",
       "\n",
       "    .dataframe thead th {\n",
       "        text-align: right;\n",
       "    }\n",
       "</style>\n",
       "<table border=\"1\" class=\"dataframe\">\n",
       "  <thead>\n",
       "    <tr style=\"text-align: right;\">\n",
       "      <th></th>\n",
       "      <th>count</th>\n",
       "      <th>unique</th>\n",
       "      <th>top</th>\n",
       "      <th>freq</th>\n",
       "      <th>mean</th>\n",
       "      <th>std</th>\n",
       "      <th>min</th>\n",
       "      <th>25%</th>\n",
       "      <th>50%</th>\n",
       "      <th>75%</th>\n",
       "      <th>max</th>\n",
       "    </tr>\n",
       "  </thead>\n",
       "  <tbody>\n",
       "    <tr>\n",
       "      <th>country</th>\n",
       "      <td>47660</td>\n",
       "      <td>7</td>\n",
       "      <td>US</td>\n",
       "      <td>21803</td>\n",
       "      <td>NaN</td>\n",
       "      <td>NaN</td>\n",
       "      <td>NaN</td>\n",
       "      <td>NaN</td>\n",
       "      <td>NaN</td>\n",
       "      <td>NaN</td>\n",
       "      <td>NaN</td>\n",
       "    </tr>\n",
       "    <tr>\n",
       "      <th>designation</th>\n",
       "      <td>47660</td>\n",
       "      <td>23251</td>\n",
       "      <td>Reserve</td>\n",
       "      <td>918</td>\n",
       "      <td>NaN</td>\n",
       "      <td>NaN</td>\n",
       "      <td>NaN</td>\n",
       "      <td>NaN</td>\n",
       "      <td>NaN</td>\n",
       "      <td>NaN</td>\n",
       "      <td>NaN</td>\n",
       "    </tr>\n",
       "    <tr>\n",
       "      <th>points</th>\n",
       "      <td>47660</td>\n",
       "      <td>NaN</td>\n",
       "      <td>NaN</td>\n",
       "      <td>NaN</td>\n",
       "      <td>89.0385</td>\n",
       "      <td>3.01925</td>\n",
       "      <td>80</td>\n",
       "      <td>87</td>\n",
       "      <td>89</td>\n",
       "      <td>91</td>\n",
       "      <td>100</td>\n",
       "    </tr>\n",
       "    <tr>\n",
       "      <th>price</th>\n",
       "      <td>47660</td>\n",
       "      <td>NaN</td>\n",
       "      <td>NaN</td>\n",
       "      <td>NaN</td>\n",
       "      <td>40.0067</td>\n",
       "      <td>37.4353</td>\n",
       "      <td>4</td>\n",
       "      <td>20</td>\n",
       "      <td>30</td>\n",
       "      <td>50</td>\n",
       "      <td>2013</td>\n",
       "    </tr>\n",
       "    <tr>\n",
       "      <th>province</th>\n",
       "      <td>47660</td>\n",
       "      <td>60</td>\n",
       "      <td>California</td>\n",
       "      <td>12732</td>\n",
       "      <td>NaN</td>\n",
       "      <td>NaN</td>\n",
       "      <td>NaN</td>\n",
       "      <td>NaN</td>\n",
       "      <td>NaN</td>\n",
       "      <td>NaN</td>\n",
       "      <td>NaN</td>\n",
       "    </tr>\n",
       "    <tr>\n",
       "      <th>region_1</th>\n",
       "      <td>47660</td>\n",
       "      <td>987</td>\n",
       "      <td>Columbia Valley (WA)</td>\n",
       "      <td>2281</td>\n",
       "      <td>NaN</td>\n",
       "      <td>NaN</td>\n",
       "      <td>NaN</td>\n",
       "      <td>NaN</td>\n",
       "      <td>NaN</td>\n",
       "      <td>NaN</td>\n",
       "      <td>NaN</td>\n",
       "    </tr>\n",
       "    <tr>\n",
       "      <th>taster_name</th>\n",
       "      <td>47660</td>\n",
       "      <td>14</td>\n",
       "      <td>Roger Voss</td>\n",
       "      <td>8459</td>\n",
       "      <td>NaN</td>\n",
       "      <td>NaN</td>\n",
       "      <td>NaN</td>\n",
       "      <td>NaN</td>\n",
       "      <td>NaN</td>\n",
       "      <td>NaN</td>\n",
       "      <td>NaN</td>\n",
       "    </tr>\n",
       "    <tr>\n",
       "      <th>taster_twitter_handle</th>\n",
       "      <td>47660</td>\n",
       "      <td>14</td>\n",
       "      <td>@vossroger</td>\n",
       "      <td>8459</td>\n",
       "      <td>NaN</td>\n",
       "      <td>NaN</td>\n",
       "      <td>NaN</td>\n",
       "      <td>NaN</td>\n",
       "      <td>NaN</td>\n",
       "      <td>NaN</td>\n",
       "      <td>NaN</td>\n",
       "    </tr>\n",
       "    <tr>\n",
       "      <th>title</th>\n",
       "      <td>47660</td>\n",
       "      <td>47112</td>\n",
       "      <td>Segura Viudas NV Extra Dry Sparkling (Cava)</td>\n",
       "      <td>7</td>\n",
       "      <td>NaN</td>\n",
       "      <td>NaN</td>\n",
       "      <td>NaN</td>\n",
       "      <td>NaN</td>\n",
       "      <td>NaN</td>\n",
       "      <td>NaN</td>\n",
       "      <td>NaN</td>\n",
       "    </tr>\n",
       "    <tr>\n",
       "      <th>variety</th>\n",
       "      <td>47660</td>\n",
       "      <td>419</td>\n",
       "      <td>Pinot Noir</td>\n",
       "      <td>6099</td>\n",
       "      <td>NaN</td>\n",
       "      <td>NaN</td>\n",
       "      <td>NaN</td>\n",
       "      <td>NaN</td>\n",
       "      <td>NaN</td>\n",
       "      <td>NaN</td>\n",
       "      <td>NaN</td>\n",
       "    </tr>\n",
       "    <tr>\n",
       "      <th>winery</th>\n",
       "      <td>47660</td>\n",
       "      <td>8400</td>\n",
       "      <td>Columbia Crest</td>\n",
       "      <td>144</td>\n",
       "      <td>NaN</td>\n",
       "      <td>NaN</td>\n",
       "      <td>NaN</td>\n",
       "      <td>NaN</td>\n",
       "      <td>NaN</td>\n",
       "      <td>NaN</td>\n",
       "      <td>NaN</td>\n",
       "    </tr>\n",
       "  </tbody>\n",
       "</table>\n",
       "</div>"
      ],
      "text/plain": [
       "                       count unique  \\\n",
       "country                47660      7   \n",
       "designation            47660  23251   \n",
       "points                 47660    NaN   \n",
       "price                  47660    NaN   \n",
       "province               47660     60   \n",
       "region_1               47660    987   \n",
       "taster_name            47660     14   \n",
       "taster_twitter_handle  47660     14   \n",
       "title                  47660  47112   \n",
       "variety                47660    419   \n",
       "winery                 47660   8400   \n",
       "\n",
       "                                                               top   freq  \\\n",
       "country                                                         US  21803   \n",
       "designation                                                Reserve    918   \n",
       "points                                                         NaN    NaN   \n",
       "price                                                          NaN    NaN   \n",
       "province                                                California  12732   \n",
       "region_1                                      Columbia Valley (WA)   2281   \n",
       "taster_name                                             Roger Voss   8459   \n",
       "taster_twitter_handle                                   @vossroger   8459   \n",
       "title                  Segura Viudas NV Extra Dry Sparkling (Cava)      7   \n",
       "variety                                                 Pinot Noir   6099   \n",
       "winery                                              Columbia Crest    144   \n",
       "\n",
       "                          mean      std  min  25%  50%  75%   max  \n",
       "country                    NaN      NaN  NaN  NaN  NaN  NaN   NaN  \n",
       "designation                NaN      NaN  NaN  NaN  NaN  NaN   NaN  \n",
       "points                 89.0385  3.01925   80   87   89   91   100  \n",
       "price                  40.0067  37.4353    4   20   30   50  2013  \n",
       "province                   NaN      NaN  NaN  NaN  NaN  NaN   NaN  \n",
       "region_1                   NaN      NaN  NaN  NaN  NaN  NaN   NaN  \n",
       "taster_name                NaN      NaN  NaN  NaN  NaN  NaN   NaN  \n",
       "taster_twitter_handle      NaN      NaN  NaN  NaN  NaN  NaN   NaN  \n",
       "title                      NaN      NaN  NaN  NaN  NaN  NaN   NaN  \n",
       "variety                    NaN      NaN  NaN  NaN  NaN  NaN   NaN  \n",
       "winery                     NaN      NaN  NaN  NaN  NaN  NaN   NaN  "
      ]
     },
     "execution_count": 23,
     "metadata": {},
     "output_type": "execute_result"
    }
   ],
   "source": [
    "cleanDF.describe(include='all',).T"
   ]
  },
  {
   "cell_type": "markdown",
   "metadata": {},
   "source": [
    "***Only price and points are numeric variables, therefore mean, median and other statistical functions are applicable.*** "
   ]
  },
  {
   "cell_type": "code",
   "execution_count": 24,
   "metadata": {},
   "outputs": [
    {
     "data": {
      "image/png": "[encoded data removed]",
      "text/plain": [
       "<Figure size 432x288 with 1 Axes>"
      ]
     },
     "metadata": {
      "needs_background": "light"
     },
     "output_type": "display_data"
    }
   ],
   "source": [
    "# Check the distribution of Price\n",
    "sns.distplot(cleanDF['price'], kde=False);"
   ]
  },
  {
   "cell_type": "code",
   "execution_count": 25,
   "metadata": {},
   "outputs": [
    {
     "data": {
      "image/png": "[encoded data removed]",
      "text/plain": [
       "<Figure size 432x288 with 1 Axes>"
      ]
     },
     "metadata": {
      "needs_background": "light"
     },
     "output_type": "display_data"
    }
   ],
   "source": [
    "# Check the distribution of Points\n",
    "sns.distplot(cleanDF['points'], kde=False);"
   ]
  },
  {
   "cell_type": "code",
   "execution_count": 26,
   "metadata": {},
   "outputs": [
    {
     "data": {
      "text/html": [
       "<div>\n",
       "<style scoped>\n",
       "    .dataframe tbody tr th:only-of-type {\n",
       "        vertical-align: middle;\n",
       "    }\n",
       "\n",
       "    .dataframe tbody tr th {\n",
       "        vertical-align: top;\n",
       "    }\n",
       "\n",
       "    .dataframe thead th {\n",
       "        text-align: right;\n",
       "    }\n",
       "</style>\n",
       "<table border=\"1\" class=\"dataframe\">\n",
       "  <thead>\n",
       "    <tr style=\"text-align: right;\">\n",
       "      <th></th>\n",
       "      <th>country</th>\n",
       "      <th>designation</th>\n",
       "      <th>points</th>\n",
       "      <th>price</th>\n",
       "      <th>province</th>\n",
       "      <th>region_1</th>\n",
       "      <th>taster_name</th>\n",
       "      <th>taster_twitter_handle</th>\n",
       "      <th>title</th>\n",
       "      <th>variety</th>\n",
       "      <th>winery</th>\n",
       "    </tr>\n",
       "  </thead>\n",
       "  <tbody>\n",
       "    <tr>\n",
       "      <th>144</th>\n",
       "      <td>US</td>\n",
       "      <td>K Block</td>\n",
       "      <td>91</td>\n",
       "      <td>85.0</td>\n",
       "      <td>California</td>\n",
       "      <td>Spring Mountain District</td>\n",
       "      <td>Virginie Boone</td>\n",
       "      <td>@vboone</td>\n",
       "      <td>Terra Valentine 2013 K Block Cabernet Sauvigno...</td>\n",
       "      <td>Cabernet Sauvignon</td>\n",
       "      <td>Terra Valentine</td>\n",
       "    </tr>\n",
       "    <tr>\n",
       "      <th>145</th>\n",
       "      <td>US</td>\n",
       "      <td>Guidotti Vineyard</td>\n",
       "      <td>91</td>\n",
       "      <td>64.0</td>\n",
       "      <td>California</td>\n",
       "      <td>Santa Lucia Highlands</td>\n",
       "      <td>Matt Kettmann</td>\n",
       "      <td>@mattkettmann</td>\n",
       "      <td>Testarossa 2013 Guidotti Vineyard Pinot Noir (...</td>\n",
       "      <td>Pinot Noir</td>\n",
       "      <td>Testarossa</td>\n",
       "    </tr>\n",
       "    <tr>\n",
       "      <th>146</th>\n",
       "      <td>US</td>\n",
       "      <td>Family Reserve</td>\n",
       "      <td>91</td>\n",
       "      <td>68.0</td>\n",
       "      <td>California</td>\n",
       "      <td>Santa Ynez Valley</td>\n",
       "      <td>Matt Kettmann</td>\n",
       "      <td>@mattkettmann</td>\n",
       "      <td>Vincent Vineyards 2010 Family Reserve Cabernet...</td>\n",
       "      <td>Cabernet Sauvignon</td>\n",
       "      <td>Vincent Vineyards</td>\n",
       "    </tr>\n",
       "    <tr>\n",
       "      <th>147</th>\n",
       "      <td>US</td>\n",
       "      <td>Family Reserve</td>\n",
       "      <td>91</td>\n",
       "      <td>68.0</td>\n",
       "      <td>California</td>\n",
       "      <td>Santa Ynez Valley</td>\n",
       "      <td>Matt Kettmann</td>\n",
       "      <td>@mattkettmann</td>\n",
       "      <td>Vincent Vineyards 2012 Family Reserve Cabernet...</td>\n",
       "      <td>Cabernet Sauvignon</td>\n",
       "      <td>Vincent Vineyards</td>\n",
       "    </tr>\n",
       "    <tr>\n",
       "      <th>149</th>\n",
       "      <td>US</td>\n",
       "      <td>Destruction Level</td>\n",
       "      <td>91</td>\n",
       "      <td>35.0</td>\n",
       "      <td>California</td>\n",
       "      <td>Monterey</td>\n",
       "      <td>Matt Kettmann</td>\n",
       "      <td>@mattkettmann</td>\n",
       "      <td>Wrath 2013 Destruction Level Red (Monterey)</td>\n",
       "      <td>Rhône-style Red Blend</td>\n",
       "      <td>Wrath</td>\n",
       "    </tr>\n",
       "  </tbody>\n",
       "</table>\n",
       "</div>"
      ],
      "text/plain": [
       "    country        designation  points  price    province  \\\n",
       "144      US            K Block      91   85.0  California   \n",
       "145      US  Guidotti Vineyard      91   64.0  California   \n",
       "146      US     Family Reserve      91   68.0  California   \n",
       "147      US     Family Reserve      91   68.0  California   \n",
       "149      US  Destruction Level      91   35.0  California   \n",
       "\n",
       "                     region_1     taster_name taster_twitter_handle  \\\n",
       "144  Spring Mountain District  Virginie Boone               @vboone   \n",
       "145     Santa Lucia Highlands   Matt Kettmann         @mattkettmann   \n",
       "146         Santa Ynez Valley   Matt Kettmann         @mattkettmann   \n",
       "147         Santa Ynez Valley   Matt Kettmann         @mattkettmann   \n",
       "149                  Monterey   Matt Kettmann         @mattkettmann   \n",
       "\n",
       "                                                 title                variety  \\\n",
       "144  Terra Valentine 2013 K Block Cabernet Sauvigno...     Cabernet Sauvignon   \n",
       "145  Testarossa 2013 Guidotti Vineyard Pinot Noir (...             Pinot Noir   \n",
       "146  Vincent Vineyards 2010 Family Reserve Cabernet...     Cabernet Sauvignon   \n",
       "147  Vincent Vineyards 2012 Family Reserve Cabernet...     Cabernet Sauvignon   \n",
       "149        Wrath 2013 Destruction Level Red (Monterey)  Rhône-style Red Blend   \n",
       "\n",
       "                winery  \n",
       "144    Terra Valentine  \n",
       "145         Testarossa  \n",
       "146  Vincent Vineyards  \n",
       "147  Vincent Vineyards  \n",
       "149              Wrath  "
      ]
     },
     "execution_count": 26,
     "metadata": {},
     "output_type": "execute_result"
    }
   ],
   "source": [
    "# Create DFs with records for US wines which have scored more than 90 points.\n",
    "USWines_DF = cleanDF[(cleanDF[\"country\"] == \"US\") & (cleanDF[\"points\"] > 90)]\n",
    "USWines_DF.head()"
   ]
  },
  {
   "cell_type": "code",
   "execution_count": 27,
   "metadata": {},
   "outputs": [
    {
     "data": {
      "text/html": [
       "<div>\n",
       "<style scoped>\n",
       "    .dataframe tbody tr th:only-of-type {\n",
       "        vertical-align: middle;\n",
       "    }\n",
       "\n",
       "    .dataframe tbody tr th {\n",
       "        vertical-align: top;\n",
       "    }\n",
       "\n",
       "    .dataframe thead th {\n",
       "        text-align: right;\n",
       "    }\n",
       "</style>\n",
       "<table border=\"1\" class=\"dataframe\">\n",
       "  <thead>\n",
       "    <tr style=\"text-align: right;\">\n",
       "      <th></th>\n",
       "      <th>country</th>\n",
       "      <th>designation</th>\n",
       "      <th>points</th>\n",
       "      <th>price</th>\n",
       "      <th>province</th>\n",
       "      <th>region_1</th>\n",
       "      <th>taster_name</th>\n",
       "      <th>taster_twitter_handle</th>\n",
       "      <th>title</th>\n",
       "      <th>variety</th>\n",
       "      <th>winery</th>\n",
       "    </tr>\n",
       "  </thead>\n",
       "  <tbody>\n",
       "    <tr>\n",
       "      <th>166</th>\n",
       "      <td>France</td>\n",
       "      <td>Charles de Batz</td>\n",
       "      <td>91</td>\n",
       "      <td>25.0</td>\n",
       "      <td>Southwest France</td>\n",
       "      <td>Madiran</td>\n",
       "      <td>Roger Voss</td>\n",
       "      <td>@vossroger</td>\n",
       "      <td>Domaine Berthoumieu 2013 Charles de Batz Tanna...</td>\n",
       "      <td>Tannat-Cabernet</td>\n",
       "      <td>Domaine Berthoumieu</td>\n",
       "    </tr>\n",
       "    <tr>\n",
       "      <th>292</th>\n",
       "      <td>France</td>\n",
       "      <td>Vin Jaune</td>\n",
       "      <td>92</td>\n",
       "      <td>45.0</td>\n",
       "      <td>France Other</td>\n",
       "      <td>Arbois</td>\n",
       "      <td>Roger Voss</td>\n",
       "      <td>@vossroger</td>\n",
       "      <td>Domaine Daniel Dugois 2006 Vin Jaune Savagnin ...</td>\n",
       "      <td>Savagnin</td>\n",
       "      <td>Domaine Daniel Dugois</td>\n",
       "    </tr>\n",
       "    <tr>\n",
       "      <th>353</th>\n",
       "      <td>France</td>\n",
       "      <td>Le Montrachet</td>\n",
       "      <td>96</td>\n",
       "      <td>630.0</td>\n",
       "      <td>Burgundy</td>\n",
       "      <td>Montrachet</td>\n",
       "      <td>Roger Voss</td>\n",
       "      <td>@vossroger</td>\n",
       "      <td>Louis Latour 2014 Le Montrachet  (Montrachet)</td>\n",
       "      <td>Chardonnay</td>\n",
       "      <td>Louis Latour</td>\n",
       "    </tr>\n",
       "    <tr>\n",
       "      <th>357</th>\n",
       "      <td>France</td>\n",
       "      <td>Vieilles Vignes</td>\n",
       "      <td>95</td>\n",
       "      <td>350.0</td>\n",
       "      <td>Burgundy</td>\n",
       "      <td>Clos de Vougeot</td>\n",
       "      <td>Roger Voss</td>\n",
       "      <td>@vossroger</td>\n",
       "      <td>Château de la Tour 2013 Vieilles Vignes  (Clos...</td>\n",
       "      <td>Pinot Noir</td>\n",
       "      <td>Château de la Tour</td>\n",
       "    </tr>\n",
       "    <tr>\n",
       "      <th>359</th>\n",
       "      <td>France</td>\n",
       "      <td>Les Chenevottes Premier Cru</td>\n",
       "      <td>95</td>\n",
       "      <td>110.0</td>\n",
       "      <td>Burgundy</td>\n",
       "      <td>Chassagne-Montrachet</td>\n",
       "      <td>Roger Voss</td>\n",
       "      <td>@vossroger</td>\n",
       "      <td>Philippe Colin 2014 Les Chenevottes Premier Cr...</td>\n",
       "      <td>Chardonnay</td>\n",
       "      <td>Philippe Colin</td>\n",
       "    </tr>\n",
       "  </tbody>\n",
       "</table>\n",
       "</div>"
      ],
      "text/plain": [
       "    country                  designation  points  price          province  \\\n",
       "166  France              Charles de Batz      91   25.0  Southwest France   \n",
       "292  France                    Vin Jaune      92   45.0      France Other   \n",
       "353  France                Le Montrachet      96  630.0          Burgundy   \n",
       "357  France              Vieilles Vignes      95  350.0          Burgundy   \n",
       "359  France  Les Chenevottes Premier Cru      95  110.0          Burgundy   \n",
       "\n",
       "                 region_1 taster_name taster_twitter_handle  \\\n",
       "166               Madiran  Roger Voss            @vossroger   \n",
       "292                Arbois  Roger Voss            @vossroger   \n",
       "353            Montrachet  Roger Voss            @vossroger   \n",
       "357       Clos de Vougeot  Roger Voss            @vossroger   \n",
       "359  Chassagne-Montrachet  Roger Voss            @vossroger   \n",
       "\n",
       "                                                 title          variety  \\\n",
       "166  Domaine Berthoumieu 2013 Charles de Batz Tanna...  Tannat-Cabernet   \n",
       "292  Domaine Daniel Dugois 2006 Vin Jaune Savagnin ...         Savagnin   \n",
       "353      Louis Latour 2014 Le Montrachet  (Montrachet)       Chardonnay   \n",
       "357  Château de la Tour 2013 Vieilles Vignes  (Clos...       Pinot Noir   \n",
       "359  Philippe Colin 2014 Les Chenevottes Premier Cr...       Chardonnay   \n",
       "\n",
       "                    winery  \n",
       "166    Domaine Berthoumieu  \n",
       "292  Domaine Daniel Dugois  \n",
       "353           Louis Latour  \n",
       "357     Château de la Tour  \n",
       "359         Philippe Colin  "
      ]
     },
     "execution_count": 27,
     "metadata": {},
     "output_type": "execute_result"
    }
   ],
   "source": [
    "# Create DF with records for French wines which have scored more than 90 points.\n",
    "\n",
    "FrenchWines_DF = cleanDF[(cleanDF[\"country\"] == \"France\") & (cleanDF[\"points\"] > 90)]\n",
    "FrenchWines_DF.head()"
   ]
  },
  {
   "cell_type": "code",
   "execution_count": 28,
   "metadata": {},
   "outputs": [],
   "source": [
    "USWines_DF1 = cleanDF[(cleanDF[\"country\"] == \"US\") & (cleanDF[\"price\"] < 250)]\n",
    "FrenchWines_DF1 = cleanDF[(cleanDF[\"country\"] == \"France\") & (cleanDF[\"price\"] < 250)]"
   ]
  },
  {
   "cell_type": "code",
   "execution_count": 29,
   "metadata": {},
   "outputs": [
    {
     "data": {
      "image/png": "[encoded data removed]",
      "text/plain": [
       "<Figure size 432x288 with 1 Axes>"
      ]
     },
     "metadata": {
      "needs_background": "light"
     },
     "output_type": "display_data"
    }
   ],
   "source": [
    "#  We are going to compare US wines to Frech wines.\n",
    "plot_compare_hist(USWines_DF1.price, FrenchWines_DF1.price)    \n",
    "thinkplot.Config(xlabel='US/French Wine cost', ylabel='frequency')"
   ]
  },
  {
   "cell_type": "code",
   "execution_count": 30,
   "metadata": {},
   "outputs": [
    {
     "data": {
      "image/png": "[encoded data removed]",
      "text/plain": [
       "<Figure size 432x288 with 1 Axes>"
      ]
     },
     "metadata": {
      "needs_background": "light"
     },
     "output_type": "display_data"
    }
   ],
   "source": [
    "#  We are going to compare US wines to Frech wines.\n",
    "plot_compare_hist(USWines_DF.points, FrenchWines_DF.points)    \n",
    "thinkplot.Config(xlabel='US/French Wine points', ylabel='frequency')"
   ]
  },
  {
   "cell_type": "code",
   "execution_count": 31,
   "metadata": {},
   "outputs": [
    {
     "data": {
      "image/png": "[encoded data removed]",
      "text/plain": [
       "<Figure size 432x288 with 1 Axes>"
      ]
     },
     "metadata": {
      "needs_background": "light"
     },
     "output_type": "display_data"
    },
    {
     "data": {
      "text/plain": [
       "<Figure size 576x432 with 0 Axes>"
      ]
     },
     "metadata": {},
     "output_type": "display_data"
    }
   ],
   "source": [
    "# Plot histogram of points for US Wines with prices less than 250\n",
    "plot_hist(USWines_DF1.points)\n",
    "thinkplot.Show(xlabel='US Wines points', ylabel='frequency')"
   ]
  },
  {
   "cell_type": "code",
   "execution_count": 32,
   "metadata": {},
   "outputs": [
    {
     "data": {
      "image/png": "[encoded data removed]",
      "text/plain": [
       "<Figure size 432x288 with 1 Axes>"
      ]
     },
     "metadata": {
      "needs_background": "light"
     },
     "output_type": "display_data"
    },
    {
     "data": {
      "text/plain": [
       "<Figure size 576x432 with 0 Axes>"
      ]
     },
     "metadata": {},
     "output_type": "display_data"
    }
   ],
   "source": [
    "# Plot histogram of points for French Wines with prices less than 250\n",
    "plot_hist(FrenchWines_DF1.points)\n",
    "thinkplot.Show(xlabel='French Wines points', ylabel='frequency')"
   ]
  },
  {
   "cell_type": "code",
   "execution_count": 33,
   "metadata": {},
   "outputs": [
    {
     "data": {
      "image/png": "[encoded data removed]",
      "text/plain": [
       "<Figure size 432x288 with 1 Axes>"
      ]
     },
     "metadata": {
      "needs_background": "light"
     },
     "output_type": "display_data"
    },
    {
     "data": {
      "text/plain": [
       "<Figure size 576x432 with 0 Axes>"
      ]
     },
     "metadata": {},
     "output_type": "display_data"
    }
   ],
   "source": [
    "# Plot histogram of price for US Wines with prices less than 250\n",
    "plot_hist(USWines_DF1.price)\n",
    "thinkplot.Show(xlabel='US Wines Price', ylabel='frequency')"
   ]
  },
  {
   "cell_type": "code",
   "execution_count": 34,
   "metadata": {},
   "outputs": [
    {
     "data": {
      "image/png": "[encoded data removed]",
      "text/plain": [
       "<Figure size 432x288 with 1 Axes>"
      ]
     },
     "metadata": {
      "needs_background": "light"
     },
     "output_type": "display_data"
    },
    {
     "data": {
      "text/plain": [
       "<Figure size 576x432 with 0 Axes>"
      ]
     },
     "metadata": {},
     "output_type": "display_data"
    }
   ],
   "source": [
    "# Plot histogram of price for French Wines with prices less than 250\n",
    "plot_hist(FrenchWines_DF1.price)\n",
    "thinkplot.Show(xlabel='French Wines Price', ylabel='frequency')"
   ]
  },
  {
   "cell_type": "markdown",
   "metadata": {},
   "source": [
    "**- Using pg. 29 of your text as an example, compare two scenarios in your data using a PMF. Reminder, this isn’t comparing two variables against each other – it is the same variable, but a different scenario.  Almost like a filter. The example in the book is first babies compared to all other babies, it is still the same variable, but breaking the data out based on criteria we are exploring (Chapter 3).**"
   ]
  },
  {
   "cell_type": "code",
   "execution_count": 35,
   "metadata": {
    "scrolled": true
   },
   "outputs": [
    {
     "data": {
      "image/png": "[encoded data removed]",
      "text/plain": [
       "<Figure size 432x288 with 1 Axes>"
      ]
     },
     "metadata": {
      "needs_background": "light"
     },
     "output_type": "display_data"
    }
   ],
   "source": [
    "US_points_pmf = thinkstats2.Pmf(USWines_DF.points, label = 'US Wine Points')\n",
    "French_points_pmf = thinkstats2.Pmf(FrenchWines_DF.points, label = 'French Wine Points')\n",
    "\n",
    "thinkplot.Pmfs([US_points_pmf, French_points_pmf])\n",
    "thinkplot.Config(xlabels='Points', ylabel='PMFs')"
   ]
  },
  {
   "cell_type": "code",
   "execution_count": 36,
   "metadata": {},
   "outputs": [
    {
     "data": {
      "image/png": "[encoded data removed]",
      "text/plain": [
       "<Figure size 432x288 with 1 Axes>"
      ]
     },
     "metadata": {
      "needs_background": "light"
     },
     "output_type": "display_data"
    }
   ],
   "source": [
    "US_price_pmf = thinkstats2.Pmf(USWines_DF.price, label = 'US Wine Points')\n",
    "French_price_pmf = thinkstats2.Pmf(FrenchWines_DF.price, label = 'French Wine Points')\n",
    "\n",
    "thinkplot.Pmfs([US_price_pmf, French_price_pmf])\n",
    "thinkplot.Config(xlabel='Price', ylabel='PMFs')"
   ]
  },
  {
   "cell_type": "markdown",
   "metadata": {},
   "source": [
    "**- Create 1 CDF with one of your variables, using page 41-44 as your guide, what does this tell you about your variable and how does it address the question you are trying to answer (Chapter 4).**"
   ]
  },
  {
   "cell_type": "code",
   "execution_count": 37,
   "metadata": {},
   "outputs": [
    {
     "data": {
      "image/png": "[encoded data removed]",
      "text/plain": [
       "<Figure size 432x288 with 1 Axes>"
      ]
     },
     "metadata": {
      "needs_background": "light"
     },
     "output_type": "display_data"
    }
   ],
   "source": [
    "# Ploting CDF of price between US and French wines which have score greater than 90.\n",
    "USWines_cdf = thinkstats2.Cdf(USWines_DF.price, label = 'US Wines Prices')\n",
    "FrenchWines_cdf = thinkstats2.Cdf(FrenchWines_DF.price, label = 'French Wines Prices')\n",
    "thinkplot.Cdfs([USWines_cdf, FrenchWines_cdf])\n",
    "thinkplot.Config(xlabel = 'Price', ylabel = 'CDF')"
   ]
  },
  {
   "cell_type": "markdown",
   "metadata": {},
   "source": [
    "**- Plot 1 analytical distribution and provide your analysis on how it applies to the dataset you have chosen (Chapter 5).**"
   ]
  },
  {
   "cell_type": "code",
   "execution_count": 38,
   "metadata": {},
   "outputs": [
    {
     "data": {
      "image/png": "[encoded data removed]",
      "text/plain": [
       "<Figure size 864x432 with 1 Axes>"
      ]
     },
     "metadata": {
      "needs_background": "light"
     },
     "output_type": "display_data"
    }
   ],
   "source": [
    "# Pareto Distribution on price\n",
    "log_price = np.log10(cleanDF.price)\n",
    "cdf_price = thinkstats2.Cdf(cleanDF.price, label='data')\n",
    "cdf_price_log = thinkstats2.Cdf(log_price, label='data')\n",
    "\n",
    "# pareto plot\n",
    "xs, ys = thinkstats2.RenderParetoCdf(xmin=550, alpha=1.1, low=0, high=1e7)\n",
    "thinkplot.Plot(np.log10(xs), 1-ys, label='model', color='0.8')\n",
    "thinkplot.PrePlot(cols=2)\n",
    "thinkplot.Cdf(cdf_price_log, complement=True) \n",
    "thinkplot.Config(xlabel='log10 Price',\n",
    "                 ylabel='CCDF',\n",
    "                 yscale='log', loc='lower left')"
   ]
  },
  {
   "cell_type": "code",
   "execution_count": 39,
   "metadata": {},
   "outputs": [
    {
     "data": {
      "image/png": "[encoded data removed]",
      "text/plain": [
       "<Figure size 864x432 with 1 Axes>"
      ]
     },
     "metadata": {
      "needs_background": "light"
     },
     "output_type": "display_data"
    }
   ],
   "source": [
    "thinkplot.PrePlot(cols=2)\n",
    "\n",
    "mu, sigma = log_price.mean(), log_price.std()\n",
    "xs, ps = thinkstats2.RenderNormalCdf(mu, sigma, low=0, high=8)\n",
    "thinkplot.Plot(xs, ps, label='model', color='0.8')\n",
    "\n",
    "thinkplot.Cdf(cdf_price_log) \n",
    "thinkplot.Config(xlabel='log10 Net Asset',\n",
    "                 ylabel='CDF', loc='lower right')"
   ]
  },
  {
   "cell_type": "markdown",
   "metadata": {},
   "source": [
    "**- Create two scatter plots comparing two variables and provide your analysis on correlation and causation. Remember, covariance, Pearson’s correlation, and Non-Linear Relationships should also be considered during your analysis (Chapter 7).**"
   ]
  },
  {
   "cell_type": "code",
   "execution_count": 40,
   "metadata": {},
   "outputs": [
    {
     "data": {
      "text/html": [
       "<div>\n",
       "<style scoped>\n",
       "    .dataframe tbody tr th:only-of-type {\n",
       "        vertical-align: middle;\n",
       "    }\n",
       "\n",
       "    .dataframe tbody tr th {\n",
       "        vertical-align: top;\n",
       "    }\n",
       "\n",
       "    .dataframe thead th {\n",
       "        text-align: right;\n",
       "    }\n",
       "</style>\n",
       "<table border=\"1\" class=\"dataframe\">\n",
       "  <thead>\n",
       "    <tr style=\"text-align: right;\">\n",
       "      <th></th>\n",
       "      <th>points</th>\n",
       "      <th>price</th>\n",
       "    </tr>\n",
       "  </thead>\n",
       "  <tbody>\n",
       "    <tr>\n",
       "      <th>points</th>\n",
       "      <td>1.000000</td>\n",
       "      <td>0.454493</td>\n",
       "    </tr>\n",
       "    <tr>\n",
       "      <th>price</th>\n",
       "      <td>0.454493</td>\n",
       "      <td>1.000000</td>\n",
       "    </tr>\n",
       "  </tbody>\n",
       "</table>\n",
       "</div>"
      ],
      "text/plain": [
       "          points     price\n",
       "points  1.000000  0.454493\n",
       "price   0.454493  1.000000"
      ]
     },
     "execution_count": 40,
     "metadata": {},
     "output_type": "execute_result"
    }
   ],
   "source": [
    "cleanDF.corr(method='pearson')"
   ]
  },
  {
   "cell_type": "code",
   "execution_count": 41,
   "metadata": {
    "scrolled": true
   },
   "outputs": [
    {
     "data": {
      "image/png": "[encoded data removed]",
      "text/plain": [
       "<Figure size 432x288 with 1 Axes>"
      ]
     },
     "metadata": {
      "needs_background": "light"
     },
     "output_type": "display_data"
    }
   ],
   "source": [
    "# plot Scatter Plot between price and points\n",
    "\n",
    "thinkplot.Scatter(cleanDF.price, cleanDF.points, alpha=0.2, s=10)\n",
    "thinkplot.Config(xlabel='price',\n",
    "                 ylabel='points',\n",
    "                 legend=False)"
   ]
  },
  {
   "cell_type": "code",
   "execution_count": 42,
   "metadata": {},
   "outputs": [
    {
     "data": {
      "image/png": "[encoded data removed]",
      "text/plain": [
       "<Figure size 432x288 with 1 Axes>"
      ]
     },
     "metadata": {
      "needs_background": "light"
     },
     "output_type": "display_data"
    }
   ],
   "source": [
    "# An alternative to a scatter plot is something like a HexBin plot, which breaks the plane into bins, \n",
    "# counts the number of respondents in each bin, and colors each bin in proportion to its count.\n",
    "\n",
    "thinkplot.HexBin(cleanDF.price, cleanDF.points)\n",
    "thinkplot.Config(xlabel='price',\n",
    "                 ylabel='points',\n",
    "                 legend=False)"
   ]
  },
  {
   "cell_type": "code",
   "execution_count": 43,
   "metadata": {
    "scrolled": true
   },
   "outputs": [
    {
     "data": {
      "text/plain": [
       "array([[1401.39975321,   51.36978635],\n",
       "       [  51.36978635,    9.11587373]])"
      ]
     },
     "execution_count": 43,
     "metadata": {},
     "output_type": "execute_result"
    }
   ],
   "source": [
    "# Calculate Covariance\n",
    "np.cov(cleanDF.price, cleanDF.points)"
   ]
  },
  {
   "cell_type": "code",
   "execution_count": 44,
   "metadata": {},
   "outputs": [
    {
     "data": {
      "text/plain": [
       "array([[1.        , 0.45449341],\n",
       "       [0.45449341, 1.        ]])"
      ]
     },
     "execution_count": 44,
     "metadata": {},
     "output_type": "execute_result"
    }
   ],
   "source": [
    "# Calculate pearson correlation\n",
    "\n",
    "np.corrcoef(cleanDF.price, cleanDF.points)"
   ]
  },
  {
   "cell_type": "code",
   "execution_count": 45,
   "metadata": {},
   "outputs": [],
   "source": [
    "# Calculate Spearman's correlation and rank of each variable\n",
    "\n",
    "cleanDF['points'] = cleanDF.points.rank()\n",
    "cleanDF['price'] = cleanDF.price.rank()"
   ]
  },
  {
   "cell_type": "code",
   "execution_count": 46,
   "metadata": {},
   "outputs": [
    {
     "data": {
      "text/plain": [
       "array([[1.        , 0.61776554],\n",
       "       [0.61776554, 1.        ]])"
      ]
     },
     "execution_count": 46,
     "metadata": {},
     "output_type": "execute_result"
    }
   ],
   "source": [
    "np.corrcoef(cleanDF.price, cleanDF.points)"
   ]
  },
  {
   "cell_type": "markdown",
   "metadata": {},
   "source": [
    "**- Conduct a test on your hypothesis using one of the methods covered in Chapter 9.**"
   ]
  },
  {
   "cell_type": "code",
   "execution_count": 47,
   "metadata": {},
   "outputs": [
    {
     "data": {
      "text/plain": [
       "0.0"
      ]
     },
     "execution_count": 47,
     "metadata": {},
     "output_type": "execute_result"
    }
   ],
   "source": [
    "# Testing the difference in mean between profic and loss funds by morning star rating\n",
    "\n",
    "data = USWines_DF.points, FrenchWines_DF.points\n",
    "ht = hypothesis.DiffMeansPermute(data) # difference in means by permutation\n",
    "p1 = ht.PValue(iters=10000)                       # Get the p-value\n",
    "p1"
   ]
  },
  {
   "cell_type": "code",
   "execution_count": 48,
   "metadata": {},
   "outputs": [
    {
     "data": {
      "image/png": "[encoded data removed]",
      "text/plain": [
       "<Figure size 432x288 with 1 Axes>"
      ]
     },
     "metadata": {
      "needs_background": "light"
     },
     "output_type": "display_data"
    },
    {
     "data": {
      "text/plain": [
       "<Figure size 576x432 with 0 Axes>"
      ]
     },
     "metadata": {},
     "output_type": "display_data"
    }
   ],
   "source": [
    "ht.PlotCdf()\n",
    "thinkplot.Show(xlabel='test statistic',\n",
    "               ylabel='CDF')"
   ]
  },
  {
   "cell_type": "markdown",
   "metadata": {},
   "source": [
    "**- For this project, conduct a regression analysis on either one dependent and one explanatory variable, or multiple explanatory variables (Chapter 10 & 11).**"
   ]
  },
  {
   "cell_type": "code",
   "execution_count": 49,
   "metadata": {},
   "outputs": [
    {
     "data": {
      "text/html": [
       "<table class=\"simpletable\">\n",
       "<caption>OLS Regression Results</caption>\n",
       "<tr>\n",
       "  <th>Dep. Variable:</th>          <td>price</td>      <th>  R-squared:         </th>  <td>   0.382</td>  \n",
       "</tr>\n",
       "<tr>\n",
       "  <th>Model:</th>                   <td>OLS</td>       <th>  Adj. R-squared:    </th>  <td>   0.382</td>  \n",
       "</tr>\n",
       "<tr>\n",
       "  <th>Method:</th>             <td>Least Squares</td>  <th>  F-statistic:       </th>  <td>2.941e+04</td> \n",
       "</tr>\n",
       "<tr>\n",
       "  <th>Date:</th>             <td>Sat, 08 Aug 2020</td> <th>  Prob (F-statistic):</th>   <td>  0.00</td>   \n",
       "</tr>\n",
       "<tr>\n",
       "  <th>Time:</th>                 <td>23:40:49</td>     <th>  Log-Likelihood:    </th> <td>-5.1033e+05</td>\n",
       "</tr>\n",
       "<tr>\n",
       "  <th>No. Observations:</th>      <td> 47660</td>      <th>  AIC:               </th>  <td>1.021e+06</td> \n",
       "</tr>\n",
       "<tr>\n",
       "  <th>Df Residuals:</th>          <td> 47658</td>      <th>  BIC:               </th>  <td>1.021e+06</td> \n",
       "</tr>\n",
       "<tr>\n",
       "  <th>Df Model:</th>              <td>     1</td>      <th>                     </th>      <td> </td>     \n",
       "</tr>\n",
       "<tr>\n",
       "  <th>Covariance Type:</th>      <td>nonrobust</td>    <th>                     </th>      <td> </td>     \n",
       "</tr>\n",
       "</table>\n",
       "<table class=\"simpletable\">\n",
       "<tr>\n",
       "      <td></td>         <th>coef</th>     <th>std err</th>      <th>t</th>      <th>P>|t|</th>  <th>[0.025</th>    <th>0.975]</th>  \n",
       "</tr>\n",
       "<tr>\n",
       "  <th>Intercept</th> <td> 9043.0587</td> <td>   99.442</td> <td>   90.938</td> <td> 0.000</td> <td> 8848.152</td> <td> 9237.966</td>\n",
       "</tr>\n",
       "<tr>\n",
       "  <th>points</th>    <td>    0.6205</td> <td>    0.004</td> <td>  171.502</td> <td> 0.000</td> <td>    0.613</td> <td>    0.628</td>\n",
       "</tr>\n",
       "</table>\n",
       "<table class=\"simpletable\">\n",
       "<tr>\n",
       "  <th>Omnibus:</th>       <td>801.058</td> <th>  Durbin-Watson:     </th> <td>   1.851</td> \n",
       "</tr>\n",
       "<tr>\n",
       "  <th>Prob(Omnibus):</th> <td> 0.000</td>  <th>  Jarque-Bera (JB):  </th> <td> 682.472</td> \n",
       "</tr>\n",
       "<tr>\n",
       "  <th>Skew:</th>          <td> 0.232</td>  <th>  Prob(JB):          </th> <td>6.36e-149</td>\n",
       "</tr>\n",
       "<tr>\n",
       "  <th>Kurtosis:</th>      <td> 2.641</td>  <th>  Cond. No.          </th> <td>5.52e+04</td> \n",
       "</tr>\n",
       "</table><br/><br/>Warnings:<br/>[1] Standard Errors assume that the covariance matrix of the errors is correctly specified.<br/>[2] The condition number is large, 5.52e+04. This might indicate that there are<br/>strong multicollinearity or other numerical problems."
      ],
      "text/plain": [
       "<class 'statsmodels.iolib.summary.Summary'>\n",
       "\"\"\"\n",
       "                            OLS Regression Results                            \n",
       "==============================================================================\n",
       "Dep. Variable:                  price   R-squared:                       0.382\n",
       "Model:                            OLS   Adj. R-squared:                  0.382\n",
       "Method:                 Least Squares   F-statistic:                 2.941e+04\n",
       "Date:                Sat, 08 Aug 2020   Prob (F-statistic):               0.00\n",
       "Time:                        23:40:49   Log-Likelihood:            -5.1033e+05\n",
       "No. Observations:               47660   AIC:                         1.021e+06\n",
       "Df Residuals:                   47658   BIC:                         1.021e+06\n",
       "Df Model:                           1                                         \n",
       "Covariance Type:            nonrobust                                         \n",
       "==============================================================================\n",
       "                 coef    std err          t      P>|t|      [0.025      0.975]\n",
       "------------------------------------------------------------------------------\n",
       "Intercept   9043.0587     99.442     90.938      0.000    8848.152    9237.966\n",
       "points         0.6205      0.004    171.502      0.000       0.613       0.628\n",
       "==============================================================================\n",
       "Omnibus:                      801.058   Durbin-Watson:                   1.851\n",
       "Prob(Omnibus):                  0.000   Jarque-Bera (JB):              682.472\n",
       "Skew:                           0.232   Prob(JB):                    6.36e-149\n",
       "Kurtosis:                       2.641   Cond. No.                     5.52e+04\n",
       "==============================================================================\n",
       "\n",
       "Warnings:\n",
       "[1] Standard Errors assume that the covariance matrix of the errors is correctly specified.\n",
       "[2] The condition number is large, 5.52e+04. This might indicate that there are\n",
       "strong multicollinearity or other numerical problems.\n",
       "\"\"\""
      ]
     },
     "execution_count": 49,
     "metadata": {},
     "output_type": "execute_result"
    }
   ],
   "source": [
    "# We are creating a model to predict price of a wine based on the score.\n",
    "\n",
    "formula = 'price ~ points'\n",
    "model = smf.ols(formula, data=cleanDF).fit()\n",
    "model.summary()"
   ]
  },
  {
   "cell_type": "code",
   "execution_count": 50,
   "metadata": {},
   "outputs": [
    {
     "data": {
      "text/plain": [
       "0    9103.249713\n",
       "dtype: float64"
      ]
     },
     "execution_count": 50,
     "metadata": {},
     "output_type": "execute_result"
    }
   ],
   "source": [
    "# Perform Prediction\n",
    "\n",
    "columns = ['points']\n",
    "new = pd.DataFrame([[97]], columns=columns)\n",
    "model.predict(new)"
   ]
  },
  {
   "cell_type": "code",
   "execution_count": null,
   "metadata": {},
   "outputs": [],
   "source": []
  }
 ],
 "metadata": {
  "kernelspec": {
   "display_name": "Python 3",
   "language": "python",
   "name": "python3"
  },
  "language_info": {
   "codemirror_mode": {
    "name": "ipython",
    "version": 3
   },
   "file_extension": ".py",
   "mimetype": "text/x-python",
   "name": "python",
   "nbconvert_exporter": "python",
   "pygments_lexer": "ipython3",
   "version": "3.7.6"
  }
 },
 "nbformat": 4,
 "nbformat_minor": 4
}
